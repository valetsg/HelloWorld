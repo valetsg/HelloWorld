{
 "cells": [
  {
   "cell_type": "markdown",
   "metadata": {},
   "source": [
    "<img style=\"float: right; margin: 0px 0px 15px 15px;\" src=\"https://scontent.ftij3-1.fna.fbcdn.net/v/t31.0-8/20287088_10213607114277983_4725223343657061068_o.jpg?_nc_cat=0&oh=60b389546a7584679990b8726dae5b6c&oe=5B782CF4\" width=\"400px\" height=\"200px\" />\n",
    "# <font color= #29ad6f> Valeria Alejandra Torres González\n",
    "## <font color= #9b1240> Simulación Matemática\n",
    "- <Strong> Carrera </Strong>: Ingeniería en nanotecnología\n",
    "- <Strong> Semestre </Strong>: 4to\n",
    "- <Strong> Edad </Strong>: 20 años\n",
    "### <font color= #8454ad> Me gusta:\n",
    "- Mole\n",
    "- Playa\n",
    "- Ciencia\n",
    "- Arte\n",
    "- Café\n",
    "- Musicales\n",
    "    \n",
    "### <font color= #8454ad> No me gusta:\n",
    "- Mariscos\n",
    "- Levantarme temprano\n",
    "- Banda\n",
    "- Lugares llenos de gente\n",
    "- Tráfico\n",
    "- Niños pequeños\n"
   ]
  },
  {
   "cell_type": "code",
   "execution_count": null,
   "metadata": {},
   "outputs": [],
   "source": []
  }
 ],
 "metadata": {
  "kernelspec": {
   "display_name": "Python 3",
   "language": "python",
   "name": "python3"
  },
  "language_info": {
   "codemirror_mode": {
    "name": "ipython",
    "version": 3
   },
   "file_extension": ".py",
   "mimetype": "text/x-python",
   "name": "python",
   "nbconvert_exporter": "python",
   "pygments_lexer": "ipython3",
   "version": "3.6.4"
  }
 },
 "nbformat": 4,
 "nbformat_minor": 2
}
